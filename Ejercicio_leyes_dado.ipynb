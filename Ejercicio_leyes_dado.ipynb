{
  "cells": [
    {
      "cell_type": "markdown",
      "metadata": {
        "id": "view-in-github",
        "colab_type": "text"
      },
      "source": [
        "<a href=\"https://colab.research.google.com/github/GuadalupeLopezAsc/Modulo_ll_Modelos_Estadisticos/blob/main/Ejercicio_leyes_dado.ipynb\" target=\"_parent\"><img src=\"https://colab.research.google.com/assets/colab-badge.svg\" alt=\"Open In Colab\"/></a>"
      ]
    },
    {
      "cell_type": "markdown",
      "metadata": {
        "id": "ZxJDQWl64sQh"
      },
      "source": [
        "**Elaborado por**: Guadalupe López Ascencio."
      ]
    },
    {
      "cell_type": "markdown",
      "metadata": {
        "id": "Q7WxNB_F5CSe"
      },
      "source": [
        "### Diccionarios\n",
        "\n",
        "Un diccionario es un objeto que se crea a partir de algo que se llama \"llave\" y nos arroja \"valores\":\n",
        "\n",
        "\\{ key : values \\}"
      ]
    },
    {
      "cell_type": "code",
      "execution_count": 1,
      "metadata": {
        "id": "Mx4F7iYeAv7y"
      },
      "outputs": [],
      "source": [
        "import itertools\n",
        "from itertools import product #para el prodcuto cartesiano\n",
        "from fractions import Fraction\n",
        "import matplotlib.pyplot as plt\n",
        "import numpy as np"
      ]
    },
    {
      "cell_type": "markdown",
      "metadata": {
        "id": "C00ldEQ-BHq7"
      },
      "source": [
        "Primero vamos a crear una función de probabilidad global:"
      ]
    },
    {
      "cell_type": "markdown",
      "metadata": {
        "id": "fCEkxDPeDnbf"
      },
      "source": [
        "Nota. Realizar esto para cada valor de $n$ quita tiempo. Vamos a hacer esto más rápido utilizando diccionarios."
      ]
    },
    {
      "cell_type": "markdown",
      "metadata": {
        "id": "NWr3K-nYNbl4"
      },
      "source": [
        "[Para collections ir a](https://docs.python.org/es/3/library/collections.html)"
      ]
    },
    {
      "cell_type": "markdown",
      "metadata": {
        "id": "0U8WndPoHa53"
      },
      "source": [
        "Vamos a añadir elementos a un diccionario que esta vacio"
      ]
    },
    {
      "cell_type": "code",
      "execution_count": 2,
      "metadata": {
        "id": "r87yqPf-UWRz"
      },
      "outputs": [],
      "source": [
        "import pandas as pd"
      ]
    },
    {
      "cell_type": "markdown",
      "metadata": {
        "id": "33dtH7rxZMAv"
      },
      "source": [
        "## Ejercicios\n",
        "\n",
        "1.   Documenta tu colab\n",
        "2.   Calcular la ley de las siguientes variables aleatorias\n",
        "     *   La diferencia de las caras es mayor que 1\n",
        "     *   La suma de las caras sea par\n",
        "3. Verifica en cada caso, que\n",
        "   $$\\sum_{k\\in R_{X}}\\mathbb{P}(X=k) = 1$$\n",
        "4. Gráfica y calcula la función de distribución de la v.a. S (la suma de los resultados es n)   \n",
        "5. Sube tu notebook a GitHub\n"
      ]
    },
    {
      "cell_type": "code",
      "execution_count": 3,
      "metadata": {
        "id": "t8Edjkg7gijl"
      },
      "outputs": [],
      "source": [
        "def prob_dif_mayor_que_uno():\n",
        "    \"\"\"\n",
        "    Calcula la probabilidad de que la diferencia entre los resultados de dos dados sea mayor que 1.\n",
        "    \"\"\"\n",
        "\n",
        "    # Definimos el espacio muestral (todas las combinaciones posibles al lanzar dos dados)\n",
        "    L = [i for i in range(1,7)] #Lista por comprensión\n",
        "    espacio_muestral = set(product(L, repeat=2))  # Todas las combinaciones posibles (tuplas)\n",
        "\n",
        "    # Inicializamos el contador de casos favorables\n",
        "    favorables = 0\n",
        "\n",
        "    # Recorremos todas las combinaciones posibles y contar cuántas tienen diferencia mayor a 1\n",
        "    for (a, b) in espacio_muestral:\n",
        "        if abs(a - b) > 1:  # Comprobar si la diferencia entre los dos valores es mayor que 1\n",
        "            favorables += 1\n",
        "\n",
        "    # Calculamos la probabilidad dividiendo los casos favorables por el total del espacio muestral\n",
        "    total = len(espacio_muestral)\n",
        "    probabilidad = favorables / total\n",
        "\n",
        "    return probabilidad\n"
      ]
    },
    {
      "cell_type": "code",
      "execution_count": 4,
      "metadata": {
        "colab": {
          "base_uri": "https://localhost:8080/"
        },
        "id": "Aa-06a87gijp",
        "outputId": "529a064d-824d-483e-88aa-df106a056383"
      },
      "outputs": [
        {
          "output_type": "stream",
          "name": "stdout",
          "text": [
            "La probabilidad de que la diferencia sea mayor que 1 es: 0.5555555555555556\n"
          ]
        }
      ],
      "source": [
        "# Llamamos a la función para obtener el resultado\n",
        "resultado = prob_dif_mayor_que_uno()\n",
        "print(\"La probabilidad de que la diferencia sea mayor que 1 es:\", resultado)"
      ]
    },
    {
      "cell_type": "code",
      "execution_count": 5,
      "metadata": {
        "id": "4bDmQx40gijq"
      },
      "outputs": [],
      "source": [
        "#Definimos la funcion para la calcular la probabilidad de que la suma de las caras sea par\n",
        "def probabilidad_suma_par():\n",
        "    \"\"\"\n",
        "    Calcula la probabilidad de que la suma de los resultados de dos dados sea par.\n",
        "    \"\"\"\n",
        "\n",
        "    # 1. Definimos las caras del dado (cada dado tiene 6 caras, del 1 al 6)\n",
        "    L = [i for i in range(1,7)] #Lista por comprensión\n",
        "\n",
        "    # 2. Generamos el espacio muestral: todas las combinaciones posibles de lanzar dos dados\n",
        "    combinaciones = list(product(L, repeat=2))  # Lista de tuplas con cada combinación posible de dos lanzamientos\n",
        "\n",
        "    # 3. Inicializamos un contador para los casos en los que la suma es par\n",
        "    casos_favorables = 0\n",
        "\n",
        "    # 4. Recorremos cada combinación y verificar si la suma de los dos dados es par\n",
        "    for (dado1, dado2) in combinaciones:\n",
        "        if (dado1 + dado2) % 2 == 0:  # Verifica si la suma es divisible por 2 (es par)\n",
        "            casos_favorables += 1  # Si la suma es par, incrementa el contador de casos favorables\n",
        "\n",
        "    # 5. Calculamos la probabilidad como el cociente entre los casos favorables y el total de combinaciones\n",
        "    total_combinaciones = len(combinaciones)\n",
        "    probabilidad = casos_favorables / total_combinaciones  # Probabilidad de obtener una suma par\n",
        "\n",
        "    return probabilidad"
      ]
    },
    {
      "cell_type": "code",
      "execution_count": 6,
      "metadata": {
        "colab": {
          "base_uri": "https://localhost:8080/"
        },
        "id": "_Be4h8tugijs",
        "outputId": "4467e358-3a47-4bf3-c584-d769959430ec"
      },
      "outputs": [
        {
          "output_type": "stream",
          "name": "stdout",
          "text": [
            "La probabilidad de que la suma de las caras de dos dados sea par es: 0.5\n"
          ]
        }
      ],
      "source": [
        "# Llamamos a la función para obtener el resultado\n",
        "resultado = probabilidad_suma_par()\n",
        "print(\"La probabilidad de que la suma de las caras de dos dados sea par es:\", resultado)"
      ]
    },
    {
      "cell_type": "code",
      "execution_count": 7,
      "metadata": {
        "id": "VNeNoE9vgijv"
      },
      "outputs": [],
      "source": [
        "#Primero vamos a crear a nuestro espacio muestral Omega\n",
        "casos_posibles = [i for i in range(1,7)] #Lista por comprensión\n",
        "#print(L)\n",
        "Omega = set(product(casos_posibles, repeat=2))"
      ]
    },
    {
      "cell_type": "code",
      "execution_count": 8,
      "metadata": {
        "colab": {
          "base_uri": "https://localhost:8080/"
        },
        "id": "8G7FzTM_gijw",
        "outputId": "ecf3abf1-f714-4ad5-90d1-171ba12f7c6f"
      },
      "outputs": [
        {
          "output_type": "execute_result",
          "data": {
            "text/plain": [
              "{(3, 4): 7,\n",
              " (4, 3): 7,\n",
              " (3, 1): 4,\n",
              " (5, 4): 9,\n",
              " (4, 6): 10,\n",
              " (5, 1): 6,\n",
              " (2, 2): 4,\n",
              " (1, 6): 7,\n",
              " (2, 5): 7,\n",
              " (1, 3): 4,\n",
              " (6, 2): 8,\n",
              " (6, 5): 11,\n",
              " (4, 2): 6,\n",
              " (4, 5): 9,\n",
              " (3, 3): 6,\n",
              " (5, 6): 11,\n",
              " (3, 6): 9,\n",
              " (5, 3): 8,\n",
              " (2, 4): 6,\n",
              " (1, 2): 3,\n",
              " (2, 1): 3,\n",
              " (1, 5): 6,\n",
              " (6, 1): 7,\n",
              " (6, 4): 10,\n",
              " (3, 2): 5,\n",
              " (4, 1): 5,\n",
              " (3, 5): 8,\n",
              " (5, 2): 7,\n",
              " (4, 4): 8,\n",
              " (5, 5): 10,\n",
              " (1, 1): 2,\n",
              " (1, 4): 5,\n",
              " (2, 3): 5,\n",
              " (2, 6): 8,\n",
              " (6, 6): 12,\n",
              " (6, 3): 9}"
            ]
          },
          "metadata": {},
          "execution_count": 8
        }
      ],
      "source": [
        "combinaciones_y_sumas = {(i,j): i+j for i,j in Omega}\n",
        "combinaciones_y_sumas"
      ]
    },
    {
      "cell_type": "code",
      "execution_count": 9,
      "metadata": {
        "colab": {
          "base_uri": "https://localhost:8080/"
        },
        "id": "p9hspI2Jgijy",
        "outputId": "c6e81658-082a-433c-ba85-eaa2e84e59fe"
      },
      "outputs": [
        {
          "output_type": "execute_result",
          "data": {
            "text/plain": [
              "defaultdict(set, {})"
            ]
          },
          "metadata": {},
          "execution_count": 9
        }
      ],
      "source": [
        "# Crear un diccionario por default para agrupar eventos\n",
        "from collections import defaultdict\n",
        "eventos_agrupados = defaultdict(set)\n",
        "eventos_agrupados"
      ]
    },
    {
      "cell_type": "code",
      "execution_count": 10,
      "metadata": {
        "id": "6keqYbmygij0"
      },
      "outputs": [],
      "source": [
        "# Definir función de probabilidad\n",
        "def probabilidad(A, Omega):\n",
        "    return Fraction(len(A), len(Omega))"
      ]
    },
    {
      "cell_type": "code",
      "execution_count": 11,
      "metadata": {
        "colab": {
          "base_uri": "https://localhost:8080/"
        },
        "id": "zuqHSuQSgij0",
        "outputId": "bef78bda-0525-4d89-8cee-2e6811a2b605"
      },
      "outputs": [
        {
          "output_type": "execute_result",
          "data": {
            "text/plain": [
              "defaultdict(set,\n",
              "            {7: {(1, 6), (2, 5), (3, 4), (4, 3), (5, 2), (6, 1)},\n",
              "             4: {(1, 3), (2, 2), (3, 1)},\n",
              "             9: {(3, 6), (4, 5), (5, 4), (6, 3)},\n",
              "             10: {(4, 6), (5, 5), (6, 4)},\n",
              "             6: {(1, 5), (2, 4), (3, 3), (4, 2), (5, 1)},\n",
              "             8: {(2, 6), (3, 5), (4, 4), (5, 3), (6, 2)},\n",
              "             11: {(5, 6), (6, 5)},\n",
              "             3: {(1, 2), (2, 1)},\n",
              "             5: {(1, 4), (2, 3), (3, 2), (4, 1)},\n",
              "             2: {(1, 1)},\n",
              "             12: {(6, 6)}})"
            ]
          },
          "metadata": {},
          "execution_count": 11
        }
      ],
      "source": [
        "# Añadir al diccionario las combinaciones según la suma\n",
        "for combinacion, suma in combinaciones_y_sumas.items():\n",
        "    eventos_agrupados[suma].add(combinacion)  # Agrupar las combinaciones por la suma\n",
        "eventos_agrupados"
      ]
    },
    {
      "cell_type": "code",
      "execution_count": 12,
      "metadata": {
        "colab": {
          "base_uri": "https://localhost:8080/"
        },
        "id": "mbKMp07Kgij2",
        "outputId": "7820f64f-5fcb-400b-90bb-f683bad8f656"
      },
      "outputs": [
        {
          "output_type": "execute_result",
          "data": {
            "text/plain": [
              "{7: Fraction(1, 6),\n",
              " 4: Fraction(1, 12),\n",
              " 9: Fraction(1, 9),\n",
              " 10: Fraction(1, 12),\n",
              " 6: Fraction(5, 36),\n",
              " 8: Fraction(5, 36),\n",
              " 11: Fraction(1, 18),\n",
              " 3: Fraction(1, 18),\n",
              " 5: Fraction(1, 9),\n",
              " 2: Fraction(1, 36),\n",
              " 12: Fraction(1, 36)}"
            ]
          },
          "metadata": {},
          "execution_count": 12
        }
      ],
      "source": [
        "# Aplicamos la ley de probabilidades para cada evento en el diccionario eventos_agrupados\n",
        "ley_probabilidades = {suma: probabilidad(A, Omega) for suma, A in eventos_agrupados.items()}\n",
        "ley_probabilidades"
      ]
    },
    {
      "cell_type": "code",
      "source": [
        "# Verificamos que la suma de todas las probabilidades es igual a 1\n",
        "suma_probabilidades = sum(ley_probabilidades.values())\n",
        "print(f\"La suma de las probabilidades es: {suma_probabilidades}\")\n",
        "\n",
        "# Verificar si la suma es igual a 1\n",
        "if suma_probabilidades == 1:\n",
        "    print(\"La suma de las probabilidades es igual a 1: \\u2211_{k} P(X=k) = 1\")\n",
        "else:\n",
        "    print(f\"Error: La suma de las probabilidades no es 1, es {suma_probabilidades}\")"
      ],
      "metadata": {
        "colab": {
          "base_uri": "https://localhost:8080/"
        },
        "id": "Yrg7_H0Pig34",
        "outputId": "9ed95607-7e76-4f23-a7d3-30d443007c79"
      },
      "execution_count": 13,
      "outputs": [
        {
          "output_type": "stream",
          "name": "stdout",
          "text": [
            "La suma de las probabilidades es: 1\n",
            "La suma de las probabilidades es igual a 1: ∑_{k} P(X=k) = 1\n"
          ]
        }
      ]
    },
    {
      "cell_type": "code",
      "source": [
        "# Valores de S y sus probabilidades\n",
        "valores_s = sorted(ley_probabilidades.keys())\n",
        "densidades = [ley_probabilidades[n] for n in valores_s]\n"
      ],
      "metadata": {
        "id": "Y9xvGmTLlpAQ"
      },
      "execution_count": 14,
      "outputs": []
    },
    {
      "cell_type": "code",
      "source": [
        "# Graficamos la función de densidad con barras\n",
        "plt.figure(figsize=(8, 6))\n",
        "plt.bar(valores_s, densidades, color='g', alpha=0.7, label='P(S=n)', width=0.8)\n",
        "\n",
        "plt.xlabel('Suma de los resultados (n)')\n",
        "plt.ylabel('P(S=n)')\n",
        "plt.title('Función de densidad de la suma de dos dados (PDF)')\n",
        "plt.grid(True, axis='y')\n",
        "plt.legend()\n",
        "plt.show()"
      ],
      "metadata": {
        "colab": {
          "base_uri": "https://localhost:8080/",
          "height": 564
        },
        "id": "XJQFSngFl2Tn",
        "outputId": "39f1973b-90fc-4ffe-d853-f823ca7c2d04"
      },
      "execution_count": 15,
      "outputs": [
        {
          "output_type": "display_data",
          "data": {
            "text/plain": [
              "<Figure size 800x600 with 1 Axes>"
            ],
            "image/png": "[encoded data removed]"
          },
          "metadata": {}
        }
      ]
    },
    {
      "cell_type": "code",
      "source": [
        "# Imprimimos la función de densidad para cada valor de S\n",
        "for n, p in zip(valores_s, densidades):\n",
        "    print(f\"P(S={n}) = {p}\")"
      ],
      "metadata": {
        "colab": {
          "base_uri": "https://localhost:8080/"
        },
        "id": "x58xhFhGl4Gr",
        "outputId": "094151ed-b2cf-4d66-a2a4-2a4123809b01"
      },
      "execution_count": 16,
      "outputs": [
        {
          "output_type": "stream",
          "name": "stdout",
          "text": [
            "P(S=2) = 1/36\n",
            "P(S=3) = 1/18\n",
            "P(S=4) = 1/12\n",
            "P(S=5) = 1/9\n",
            "P(S=6) = 5/36\n",
            "P(S=7) = 1/6\n",
            "P(S=8) = 5/36\n",
            "P(S=9) = 1/9\n",
            "P(S=10) = 1/12\n",
            "P(S=11) = 1/18\n",
            "P(S=12) = 1/36\n"
          ]
        }
      ]
    },
    {
      "cell_type": "code",
      "source": [
        "# Calculamos la función de distribución acumulada (CDF) de S\n",
        "valores_s = sorted(ley_probabilidades.keys())\n",
        "cdf = []\n",
        "suma_acumulada = 0\n",
        "\n",
        "for n in valores_s:\n",
        "    suma_acumulada += ley_probabilidades[n]\n",
        "    cdf.append(suma_acumulada)\n",
        "\n"
      ],
      "metadata": {
        "id": "TmqBcww4lIZ6"
      },
      "execution_count": 17,
      "outputs": []
    },
    {
      "cell_type": "code",
      "source": [
        "# Graficar la función de distribución acumulada con barras\n",
        "plt.figure(figsize=(8, 6))\n",
        "plt.bar(valores_s, cdf, color='b', alpha=0.7, label='F(n)', width=0.8)\n",
        "\n",
        "# Etiquetas y título del gráfico\n",
        "plt.xlabel('Suma de los resultados (n)')\n",
        "plt.ylabel('F(n)')\n",
        "plt.title('Función de distribución acumulada (CDF) de S')\n",
        "plt.grid(True, axis='y')\n",
        "plt.legend()\n",
        "plt.show()\n"
      ],
      "metadata": {
        "colab": {
          "base_uri": "https://localhost:8080/",
          "height": 564
        },
        "id": "8Bdom5UNlLII",
        "outputId": "189c2929-900f-486f-c186-7496cd861788"
      },
      "execution_count": 18,
      "outputs": [
        {
          "output_type": "display_data",
          "data": {
            "text/plain": [
              "<Figure size 800x600 with 1 Axes>"
            ],
            "image/png": "[encoded data removed]"
          },
          "metadata": {}
        }
      ]
    },
    {
      "cell_type": "code",
      "source": [
        "# Imprimimos la función de distribución acumulada para cada valor de S\n",
        "for n, fn in zip(valores_s, cdf):\n",
        "    print(f\"F({n}) = {fn}\")"
      ],
      "metadata": {
        "colab": {
          "base_uri": "https://localhost:8080/"
        },
        "id": "lWJPvSEdlM_m",
        "outputId": "e481eaa9-783c-404f-8164-7943aa6d0c03"
      },
      "execution_count": 19,
      "outputs": [
        {
          "output_type": "stream",
          "name": "stdout",
          "text": [
            "F(2) = 1/36\n",
            "F(3) = 1/12\n",
            "F(4) = 1/6\n",
            "F(5) = 5/18\n",
            "F(6) = 5/12\n",
            "F(7) = 7/12\n",
            "F(8) = 13/18\n",
            "F(9) = 5/6\n",
            "F(10) = 11/12\n",
            "F(11) = 35/36\n",
            "F(12) = 1\n"
          ]
        }
      ]
    }
  ],
  "metadata": {
    "colab": {
      "provenance": [],
      "include_colab_link": true
    },
    "kernelspec": {
      "display_name": "Python 3",
      "name": "python3"
    },
    "language_info": {
      "codemirror_mode": {
        "name": "ipython",
        "version": 3
      },
      "file_extension": ".py",
      "mimetype": "text/x-python",
      "name": "python",
      "nbconvert_exporter": "python",
      "pygments_lexer": "ipython3",
      "version": "3.12.4"
    }
  },
  "nbformat": 4,
  "nbformat_minor": 0
}