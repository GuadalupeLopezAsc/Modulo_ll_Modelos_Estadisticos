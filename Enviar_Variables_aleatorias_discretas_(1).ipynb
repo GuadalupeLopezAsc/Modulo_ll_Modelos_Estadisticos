{
  "cells": [
    {
      "cell_type": "markdown",
      "id": "d50d92d5",
      "metadata": {
        "id": "d50d92d5"
      },
      "source": [
        "# Variables aleatorias discretas"
      ]
    },
    {
      "cell_type": "code",
      "source": [
        "import numpy as np #Importamos el modulo NuumPy\n",
        "import numpy.random as npr #Importamosun submódulo de NumPy que se utiliza para generar números aleatorios.\n",
        "\n",
        "import scipy.stats as sps #Impotamos el modulo SciPy\n",
        "from scipy.stats import randint #Para trabajar con una distribución uniforme discreta en un rango de enteros. funcion randit\n",
        "\n",
        "import matplotlib.pyplot as plt #Matplotlib es una biblioteca de visualización de datos en Python.\n",
        "\n",
        "import random #random es el módulo estándar de Python para la generación de números aleatorios.\n",
        "\n",
        "#warnings es un módulo de Python que permite gestionar y controlar los mensajes de advertencia (warnings) que el código podría generar.\n",
        "import warnings\n",
        "warnings.filterwarnings(\"ignore\")"
      ],
      "metadata": {
        "id": "5I0QecDlX8mj"
      },
      "id": "5I0QecDlX8mj",
      "execution_count": null,
      "outputs": []
    },
    {
      "cell_type": "markdown",
      "id": "bd499bb5",
      "metadata": {
        "id": "bd499bb5"
      },
      "source": [
        "# Variable aleatoria uniforme discreta\n",
        "\n",
        "Una variable aleatoria $X$ tiene distribución uniforme discreta en el conjunto $\\{x_{1},\\dots,x_{n}\\}$ si su función de masa de probabilidades está dada por\n",
        "$$f_{X}(k)=\\mathbb{P}(X=k)=\\begin{cases}\n",
        "\\frac{1}{n} &\\quad \\text{si } k\\in\\{x_{1},\\dots,x_{n}\\} \\\\\n",
        "0 &\\quad \\text{en otro caso}\n",
        "\\end{cases}$$\n",
        "\n",
        "**Notación:** $X\\sim Unif(x_{1},\\dots,x_{n}).$\n",
        "\n",
        "Se llama uniforme porque cada uno de los posibles valores de $X$ tienen la misma probabilidad.\n",
        "\n",
        "Si $X\\sim Unif(x_{1},\\dots,x_{n})$, en este caso, se tiene:\n",
        "\t$$\\mathbb{E}[X] = \\sum_{k}kf_{X}(k)=\\frac{x_n + x_1}{2}.$$\n",
        "\ty\n",
        "\t$$\\text{Var}(X) = \\mathbb{E}[(X-\\mathbb{E}[X])^{2}] =\\sum_{k}(k-\\mathbb{E}[X])^{2}f_{X}(k)=\\frac{(x_n - x_1+1)^2-1}{12}$$\n",
        "\n",
        "$\\color{red}{\\text{Ejercicio 1.}}$ Verifica que, en efecto, la esperanza y varianza de una variable aleatoria geométrica está dada como antes.\n",
        "    \n",
        "**Ejemplo** Se lleva a cabo una rifa donde los boletos están enumerados del $00$ al $99$. Si $Y$ es la variable aleatoria definida como el número del boleto ganador, entonces:  \n",
        "$$\\mathbb{P}(Y=k)=\\begin{cases}\n",
        "\t\\frac{1}{100} &\\quad \\text{si } k=00,01,\\dots,99 \\\\\n",
        "\t0 &\\quad \\text{en otro caso}\n",
        "\\end{cases}$$\n",
        "Consideremos que el premio de la rifa se determina a partir del número premiado de la siguiente forma: $X=Y+1$, donde $X$ es el monto del premio en pesos y $Y$ es el número premiado, entonces $X$ es una variable aleatoria, pues es una función de $Y$, y además se tiene\n",
        "\t$$f_{X}(k)=\\begin{cases}\n",
        "\t\t\\frac{1}{100} &\\quad \\text{si } x=1,2,\\dots,100 \\\\\n",
        "\t\t0 &\\quad \\text{en otro caso}\n",
        "\t\\end{cases}$$\n",
        "Entonces, la esperanza y varianza de $X$ están dados por:\n",
        "\t$$\\mathbb{E}[X] = \\sum_{k=1}^{100}k\\left(\\frac{1}{100}\\right) = \\frac{1}{100}\\sum_{k=1}^{100}k = \\frac{1}{100}\\left[\\frac{100(100+1)}{2}\\right] = 50.5$$\n",
        "\ty\n",
        "\t$$\\text{Var}(X) = \\mathbb{E}[X^{2}]-(\\mathbb{E}[X])^{2} = \\sum_{k=1}^{100}k^{2}\\left(\\frac{1}{100}\\right)-(50.5)^{2} = 833.25$$   \n",
        "\n",
        "\n",
        "    \n",
        "Supongamos que nos interesa calcular la probabilidad de que el premio sea mayor a $\\$80$, entonces\n",
        "\t$$\\mathbb{P}(X>80) = \\sum_{k=81}^{100}\\frac{1}{100} = \\frac{20}{100} = 0.2$$\n",
        "\tSu función de distribución esta dada por:\n",
        "\t$$F_{X}(x)=\\mathbb{P}(X\\le x)=\\begin{cases}\n",
        "\t\t0 &\\quad \\text{si } x<1 \\\\\n",
        "\t\t\\frac{x}{100} &\\quad \\text{si } x=1,2,\\dots,100\\\\ 1 &\\quad \\text{si } x>100\n",
        "\t\\end{cases}$$     "
      ]
    },
    {
      "cell_type": "markdown",
      "source": [
        "$\\color{red}{\\text{Ejercicio 2.}}$ Dibuja a la función de distribución acumulada de la variable aleatoria:\n",
        "\n",
        "> Agregar bloque entrecomillado\n",
        "\n",
        "\n",
        "$$S:\\{1,2,3,4,5,6\\}^{2}\\to \\{2, 3, 4, 5, 6, 7, 8, 9, 10, 11, 12 \\}$$\n",
        "dada por\n",
        "$S(i,j)=i+j.$"
      ],
      "metadata": {
        "id": "UAQy3d5scoHX"
      },
      "id": "UAQy3d5scoHX"
    },
    {
      "cell_type": "code",
      "source": [
        "# Definir el rango de la distribución uniforme discreta [low, high)\n",
        "low = 1  # límite inferior (incluido en el rango)\n",
        "high = 10  # límite superior (excluido del rango)\n",
        "#rango [1,10)\n",
        "\n",
        "# Generar 10 muestras de una uniforme discreta\n",
        "samples = randint.rvs(low, high, size=10)\n",
        "\n",
        "print(\"Muestras generadas:\", samples)"
      ],
      "metadata": {
        "colab": {
          "base_uri": "https://localhost:8080/"
        },
        "id": "u2IRzV0uX4Ra",
        "outputId": "76e02540-bb34-41ba-9770-32daea9921b1"
      },
      "id": "u2IRzV0uX4Ra",
      "execution_count": null,
      "outputs": [
        {
          "output_type": "stream",
          "name": "stdout",
          "text": [
            "Muestras generadas: [3 6 2 3 5 7 8 1 1 5]\n"
          ]
        }
      ]
    },
    {
      "cell_type": "code",
      "source": [
        "# Definir el rango de la distribución uniforme discreta [low, high)\n",
        "low = 1  # límite inferior (incluido)\n",
        "high = 10  # límite superior (excluido)\n",
        "\n",
        "# Crear los valores posibles dentro del rango\n",
        "x = np.arange(low, high)\n",
        "\n",
        "# Obtener la función de masa de probabilidad (FMP)\n",
        "pmf = randint.pmf(x, low, high)\n",
        "\n",
        "# Graficar la FMP\n",
        "plt.stem(x, pmf, basefmt=\" \", use_line_collection=True)\n",
        "plt.xlabel('Valores')\n",
        "plt.ylabel('Probabilidad')\n",
        "plt.title('Función de Masa de Probabilidad de una Uniforme Discreta')\n",
        "plt.grid(True)\n",
        "plt.show()"
      ],
      "metadata": {
        "colab": {
          "base_uri": "https://localhost:8080/",
          "height": 472
        },
        "id": "OLea8rc1YN10",
        "outputId": "a48f9463-d8f9-49c3-afbd-6dd28d59e614"
      },
      "id": "OLea8rc1YN10",
      "execution_count": null,
      "outputs": [
        {
          "output_type": "display_data",
          "data": {
            "text/plain": [
              "<Figure size 640x480 with 1 Axes>"
            ],
            "image/png": "[encoded data removed]"
          },
          "metadata": {}
        }
      ]
    },
    {
      "cell_type": "markdown",
      "id": "1a2446e2",
      "metadata": {
        "id": "1a2446e2"
      },
      "source": [
        "## Variable aleatoria Bernoulli con parámetro $p\\in (0,1)$.\n",
        "\n",
        "El modelo probabilístico Bernoulli se aplica a un experimento cuyo espacio muestral está constituido sólo por dos resultados posibles, éxito y fracaso:\n",
        "\n",
        "Se considerará una v.a $X$ sobre el espacio muestral $$\\Omega=\\{\\text{éxito, fracaso}\\}$$\n",
        "de tal forma que\n",
        "* $X(\\{\\text{éxito}\\}) = 1$\n",
        "* $X(\\{\\text{fracaso}\\}) = 0$\n",
        "\n",
        "Las probabilidades asociadas a este modelo son:\n",
        "\n",
        "* $\\mathbb{P}(\\{\\text{éxito}\\}) = p$\n",
        "* $\\mathbb{P}(\\{\\text{fracaso}\\}) = 1-p$\n",
        "\n",
        "donde $0<p<1$.\n",
        "\n",
        "\n",
        "Entonces la función de densidad de masa de probabilidades de $X$ está dada por:\n",
        "\n",
        "$$f_{X}(k)=\\begin{cases}\n",
        "p &\\quad \\text{si } k=1 \\\\\n",
        "1-p &\\quad \\text{si } k=0\n",
        "\\end{cases}$$\n",
        "\n",
        "**Notación:** $X\\sim \\text{Ber}(p)$.\n",
        "\n",
        "Esta variable aleatoria es muy importante. En la practica es usada para modelar situaciones en las cuales hay dos posibles resultados como:\n",
        "* el estado de un teléfono en un momento dado: libre u ocupado.\n",
        "* una persona pueda estar enferma o sana de una determinada enfermedad.\n",
        "* la preferencia de una persona, la cual puede estar a favor o en contra de un candidato determinado.\n",
        "\n",
        "Mediante la combinación de variables aleatorias Bernoulli es posible construir otras variables aleatorias.\n",
        "\n",
        "### Esperanza y Varianza\n",
        "\n",
        "Si $X\\sim \\text{Ber}(p)$, entonces su esperanza es:\n",
        "\\begin{align*}\n",
        "\\mathbb{E}[X] = \\sum_{k=0}^{1}kf_{X}(k) = 1\\cdot p + 0\\cdot (1-p) = p.\n",
        "\\end{align*}\n",
        "\n",
        "Y su varianza se calcula usando,\n",
        "$$\\mathbb{E}[X^{2}] = \\sum_{k=0}^{1}k^{2}f_{X}(k) = 1^{2}\\cdot p + 0^{2}\\cdot (1-p) = p.$$\n",
        "Por lo tanto,\n",
        "$$\\text{Var}(X)=\\mathbb{E}[X^{2}]-(\\mathbb{E}[X])^{2} = p-p^{2} = p(1-p)$$\n",
        "\n"
      ]
    },
    {
      "cell_type": "code",
      "source": [
        "from scipy.stats import bernoulli\n",
        "\n",
        "#Definimos la probabilidad de éxito\n",
        "p=0.3\n",
        "\n",
        "#Calculo de la función de densidad\n",
        "x=[0,1]\n",
        "print(\"Función de densidad =\",bernoulli.pmf(x,p))\n",
        "\n",
        "#Grafica de la funciónde de densidad\n",
        "plt.bar(x,bernoulli.pmf(x,p),width=0.05)\n",
        "plt.xlabel(\"Valores\")\n",
        "plt.ylabel(\"Probabilidad\")\n",
        "plt.title(\"Distribución bernoulli con p=0.3\")\n",
        "plt.show()\n",
        "\n",
        "#Calculo de la esperanza\n",
        "print(\"Esperanza =\",bernoulli.mean(p))\n",
        "\n",
        "#Calculo de la varianza\n",
        "print(\"Varianza =\",bernoulli.var(p))"
      ],
      "metadata": {
        "colab": {
          "base_uri": "https://localhost:8080/",
          "height": 527
        },
        "id": "Xmf7FOOKhirj",
        "outputId": "5d168ad0-8c1c-4738-e2ba-0946f37eb3cf"
      },
      "id": "Xmf7FOOKhirj",
      "execution_count": null,
      "outputs": [
        {
          "output_type": "stream",
          "name": "stdout",
          "text": [
            "Función de densidad = [0.7 0.3]\n"
          ]
        },
        {
          "output_type": "display_data",
          "data": {
            "text/plain": [
              "<Figure size 640x480 with 1 Axes>"
            ],
            "image/png": "[encoded data removed]"
          },
          "metadata": {}
        },
        {
          "output_type": "stream",
          "name": "stdout",
          "text": [
            "Esperanza = 0.3\n",
            "Varianza = 0.21\n"
          ]
        }
      ]
    },
    {
      "cell_type": "markdown",
      "id": "5effadd4",
      "metadata": {
        "id": "5effadd4"
      },
      "source": [
        "## Variable aleatoria Binomial con parámetros $n$ y $p\\in (0,1)$.\n",
        "\n",
        "Decimos que una v.a $X$ tiene distribución binomial con párametros $n$ y $p$, si su función de densidad de masa de probabilidades está dada por:\n",
        "$$\\begin{equation*}\n",
        "\tf_{X}(k)=\\begin{cases}\n",
        "\t\\binom{n}{k}p^{k}(1-p)^{n-k} &\\quad \\text{si } k=0,1,\\dots,n \\\\\n",
        "\t\\qquad 0 &\\quad \\text{en otro caso}  \n",
        "\t\\end{cases}\n",
        "\\end{equation*}$$\n",
        "donde $n$ es un entero positivo y $0< p< 1$.\n",
        "\n",
        "La esperanza de $X$ es:\n",
        "\\begin{align*}\n",
        "\\mathbb{E}[X]&= \\sum_{k \\mathop = 0}^n k \\binom n k p^k (1-p)^{n - k}\\\\\n",
        "&=\\sum_{k \\mathop = 1}^n k \\binom n k p^k (1-p)^{n - k}\\\\\n",
        "&= \\sum_{k \\mathop = 1}^n n \\binom {n - 1} {k - 1} p^k (1-p)^{n - k}\\\\\n",
        "&= n p \\sum_{k \\mathop = 1}^n \\binom {n - 1} {k - 1} p^{k - 1} (1-p)^{( {n - 1}) - ( {k - 1}) }\\\\\n",
        "&=n p \\sum_{j \\mathop = 0}^m \\binom m j p^j (1-p)^{m - j}\\\\\n",
        "&=np\n",
        "\\end{align*}\n",
        "\n",
        "Ahora,\n",
        "\\begin{align*}\n",
        "\\mathbb{E}[X^2]&= \\sum_{k \\mathop = 0}^n k^2 \\binom n k p^k (1-p)^{n - k}\\\\\n",
        "&=\\sum_{k \\mathop = 0}^n k n \\binom {n - 1} {k - 1} p^k (1-p)^{n - k}\\\\\n",
        "&= n p \\sum_{k \\mathop = 1}^n k \\binom {n - 1} {k - 1} p^{k - 1} (1-p)^{({n - 1}) - ({k - 1}) }\\\\\n",
        "&= n p \\sum_{j \\mathop = 0}^m ({j + 1}) \\binom m j p^j (1-p)^{m - j}\\\\\n",
        "&=n p \\left( {\\sum_{j \\mathop = 0}^m j \\binom m j p^j (1-p)^{m - j} + \\sum_{j \\mathop = 0}^m \\binom m j p^j (1-p)^{m - j} }\\right)\\\\\n",
        "&=n p \\left( {\\sum_{j \\mathop = 0}^m m \\binom {m - 1} {j - 1} p^j (1-p)^{m - j} + \\sum_{j \\mathop = 0}^m \\binom m j p^j (1-p)^{m - j} }\\right)\\\\\n",
        "&= n p \\left( (n - 1) p \\sum_{j \\mathop = 1}^m \\binom {m - 1}{j - 1} p^{j - 1} (1-p)^{( {m - 1}) - ({j - 1}) } + \\sum_{j \\mathop = 0}^m \\binom m j p^j (1-p)^{m - j}\\right) \\\\\n",
        "&= n p \\left( (n - 1) p (p + (1-p))^{m - 1} + (p + (1-p))^m\\right)\\\\\n",
        "&= n p ((n - 1) p + 1)\\\\\n",
        "&= (np)^2 +np(1-p),\n",
        "\\end{align*}\n",
        "\n",
        "por lo que la varianza de $X$ es:\n",
        "$$\\text{Var}(X)=np(1-p).$$\n",
        "\n",
        "\n",
        "**Ejemplo** Una moneda no justa se tira 6 veces, donde la probabilidad de obtener sol es de $0.3$.\n",
        "\n",
        "Sea $X$ el número de veces que cae sol\n",
        "\n",
        "entonces $X$ tiene una distribución binomial con parámetros $n=6$ y $p=0.3$. Por lo que\n",
        "$$\\begin{align*}\n",
        "\\mathbb{P}(X=2) &= \\binom{6}{2}(0.3)^{2}(0.7)^{4}=0.3241 \\\\\n",
        "\\mathbb{P}(X=3) &= \\binom{6}{3}(0.3)^{3}(0.7)^{3}=0.1852 \\\\\n",
        "\\mathbb{P}(1<X\\le 5) &= \\mathbb{P}(X=2)+\\mathbb{P}(X=3)+\\mathbb{P}(X=4)+\\mathbb{P}(X=5) \\\\\n",
        "\t\t\t&= 0.3241 + 0.1852 + \\binom{6}{4}(0.3)^{4}(0.7)^{2} + \\binom{6}{5}(0.3)^{5}(0.7)^{1} \\\\\n",
        "\t\t\t&= 0.5093 + 0.0595 + 0.0102 = 0.579\n",
        "\\end{align*}$$"
      ]
    },
    {
      "cell_type": "markdown",
      "source": [
        "Note que la probabilidad $$\\mathbb{P}(1<X\\leq 5)=F_{X}(5)-F_{X}(1).$$"
      ],
      "metadata": {
        "id": "hzmozY9DZxIU"
      },
      "id": "hzmozY9DZxIU"
    },
    {
      "cell_type": "markdown",
      "source": [
        "Usando el tributo `.cdf `, podemos calcualr la probabilidad anterior:"
      ],
      "metadata": {
        "id": "cM4TH5Utmn7p"
      },
      "id": "cM4TH5Utmn7p"
    },
    {
      "cell_type": "code",
      "source": [
        "from scipy.stats import binom\n",
        "print('La probabilidad acumulada de que haya 5 o menos exitos en 6 ensayos es ', binom.cdf(5,6,0.3)) #calcula la probabilidad acumulada de que haya 5 o menos exitos en 6 ensayos\n",
        "print('la probabilidad acumulada de que haya 1 o menos exitos en 6 ensayos es', binom.cdf(1,6,0.3)) #calcula la probabilidad acumulada de que haya 1 o menos exitos en 6 ensayos\n",
        "print('Calcula la probabilidad acumulada mas de uno menos de 5', binom.cdf(5,6,0.3)-binom.cdf(1,6,0.3)) #calcula la probabilidad acumulada"
      ],
      "metadata": {
        "colab": {
          "base_uri": "https://localhost:8080/"
        },
        "id": "sdJpblLOmmNn",
        "outputId": "1a9f62e3-7e9f-433c-a384-ef7fd77cb028"
      },
      "id": "sdJpblLOmmNn",
      "execution_count": null,
      "outputs": [
        {
          "output_type": "stream",
          "name": "stdout",
          "text": [
            "La probabilidad acumulada de que haya 5 o menos exitos en 6 ensayos es  0.999271\n",
            "la probabilidad acumulada de que haya 1 o menos exitos en 6 ensayos es 0.4201749999999998\n",
            "Calcula la probabilidad acumulada mas de uno menos de 5 0.5790960000000003\n"
          ]
        }
      ]
    },
    {
      "cell_type": "markdown",
      "source": [
        "Vamos a grafciar la función de densidad de una binomial"
      ],
      "metadata": {
        "id": "FHBm8MEWoxNl"
      },
      "id": "FHBm8MEWoxNl"
    },
    {
      "cell_type": "code",
      "source": [
        "#Datos iniciales\n",
        "n=25 #número de ensayos Bernoulli\n",
        "p=0.3 #probabilidad de éxito\n",
        "s=100000 #número de muestras\n",
        "\n",
        "binom_numeros = sps.binom.rvs(n,p,size=s) #genera v.a. binomiales\n",
        "# binom.rvs(n,p,size=s) genera numeros aleatorios que siguen una distribucion binomial\n",
        "\n",
        "#Creo un histograma\n",
        "plt.figure(figsize=(10,6)) #tamaño de la figura\n",
        "plt.hist(\n",
        "    binom_numeros,\n",
        "    density=True,\n",
        "    bins=len(np.unique(binom_numeros)), #establece el numero de barras del histograma\n",
        "    color=\"blue\", #color de las barras\n",
        "    edgecolor=\"grey\", #color de los bordes\n",
        ")\n",
        "plt.xlabel(\"Valores\")\n",
        "plt.ylabel(\"Probabilidad\")\n",
        "plt.title(\"Distribución binomial\")\n",
        "plt.xticks(np.arange(min(binom_numeros),max(binom_numeros)+1,1))\n",
        "\n",
        "plt.show()\n"
      ],
      "metadata": {
        "colab": {
          "base_uri": "https://localhost:8080/",
          "height": 564
        },
        "id": "eB0730OooPV5",
        "outputId": "facae2d1-d71a-4b0a-ecf2-426149ae99e8"
      },
      "id": "eB0730OooPV5",
      "execution_count": null,
      "outputs": [
        {
          "output_type": "display_data",
          "data": {
            "text/plain": [
              "<Figure size 1000x600 with 1 Axes>"
            ],
            "image/png": "[encoded data removed]"
          },
          "metadata": {}
        }
      ]
    },
    {
      "cell_type": "markdown",
      "source": [
        "# Variable aleatoria Poisson\n",
        "\n",
        "Es una distribución de probabilidad discreta que  sirve para calcular la probabilidad de que ocurra un determinado número de eventos raros durante un intervalo dado (puede ser de tiempo, longitud, área, etc.\n",
        "\n",
        "Esta variable aleatoria toma los valores sobre el conjunto $\\{0,1,2,\\dots\\}$ y tiene un parámetro $\\lambda>0$, el cual representa el número de veces que se espera que ocurra un evento durante un intervalo dado.\n",
        "\n",
        "La función de masa de probabilidades de una variable aleatoria Poisson, $X$, está dada por:\n",
        "$$f_{X}(k)=\\begin{cases}\n",
        "\te^{-\\lambda}\\frac{\\lambda^{k}}{k!} &\\quad \\text{si } k=0,1,2,\\dots \\\\\n",
        "\t0 &\\quad \\text{en otro caso}  \n",
        "\\end{cases}$$\n",
        "\n",
        "En efecto, es una función de masa de probabilidades debido a que\n",
        "$$\\begin{align*}\n",
        "\\sum_{k=0}^{\\infty}e^{-\\lambda}\\frac{\\lambda^{k}}{k!} &= e^{-\\lambda}\\sum_{k=0}^{\\infty}\\frac{\\lambda^{k}}{k!} \\\\ &= e^{-\\lambda}\\underbrace{\\left(1+\\lambda+\\frac{\\lambda^{2}}{2!}+\\frac{\\lambda^{3}}{3!}+\\cdots\\right)}_{\\text{desarrollo de Taylor de }e^{\\lambda}} \\\\ &= e^{-\\lambda}e^{\\lambda}=1.\n",
        "\\end{align*}$$"
      ],
      "metadata": {
        "id": "73pLB0Hmg5e4"
      },
      "id": "73pLB0Hmg5e4"
    },
    {
      "cell_type": "markdown",
      "source": [
        "**Aplicaciones**\n",
        "\n",
        "**Ejemplo:** Supongamos que el número de accidentes que ocurre en un punto tiene una distribución Poisson con parámetro $\\lambda=2$.\n",
        "* ¿Cuál es la probabilidad de que en un día ocurran más de dos accidentes?\n",
        "  $$\\begin{align*}\n",
        "\t\\mathbb{P}(X>2) &= 1-\\mathbb{P}(X\\le 2) \\\\ &=1-\\left[\\mathbb{P}(X=0)+\\mathbb{P}(X=1)+\\mathbb{P}(X=2)\\right] \\\\ &= 1-\\left[\\frac{e^{-2}2^{0}}{0!}+\\frac{e^{-2}2^{1}}{1!}+\\frac{e^{-2}2^{2}}{2!}\\right] \\\\ &= 1-e^{-2}\\left[1+2+2\\right] = 1-5e^{-2} = 0.3233\n",
        "  \\end{align*}$$\n",
        "\n",
        "* ¿Cuál es la probabilidad de que en un día ocurran más de dos accidentes, sabiendo que ocurre por lo menos uno?\n",
        "$$\\begin{align*}\n",
        "\\mathbb{P}(X>2 \\mid X\\ge 1) = \\frac{\\mathbb{P}(X>2 \\cap X\\ge 1)}{\\mathbb{P}(X\\ge 1)} = \\frac{\\mathbb{P}(X>2)}{\\mathbb{P}(X\\ge 1)} = \\frac{1-\\mathbb{P}(X\\leq 2)}{1-\\mathbb{P}(X<1)} = \\frac{1-5e^{-2}}{1-e^{-2}} = \\frac{0.3233}{0.8646} = 0.3739\n",
        "\\end{align*}$$\n",
        "ya que $\\mathbb{P}(X\\ge 1)=1-\\mathbb{P}(X<1)=1-\\mathbb{P}(X=0)=1-e^{-2}$\n",
        "\n",
        "$\\color{red}{\\text{Ejercicio 3.}}$ Usando el atributo `.cdf` [Poisson](https://docs.scipy.org/doc/scipy/reference/generated/scipy.stats.poisson.html) calcula las probabilidades anteriores."
      ],
      "metadata": {
        "id": "mFOE9jBRjdde"
      },
      "id": "mFOE9jBRjdde"
    },
    {
      "cell_type": "markdown",
      "source": [
        "##¿Cuales son los parametros de poisson.cdf($x$,$\\lambda$)?\n",
        "*  $x$: el valor para el cual se quiere calcular la probabilidad acumulada.  \n",
        "*  $\\lambda$: la media de la distribución de Poisson.  "
      ],
      "metadata": {
        "id": "eQ3V3MtSZdYO"
      },
      "id": "eQ3V3MtSZdYO"
    },
    {
      "cell_type": "code",
      "source": [
        "#Importamos la función poisson del modulo scipy.stats\n",
        "from scipy.stats import poisson"
      ],
      "metadata": {
        "id": "j0KdDTToY3b2"
      },
      "id": "j0KdDTToY3b2",
      "execution_count": null,
      "outputs": []
    },
    {
      "cell_type": "code",
      "source": [
        "#Calculamos P(x>2) o bien su complemento 1 - P(x<=2)\n",
        "resultado1 = 1-poisson.cdf(2,2)\n",
        "print('La probabilidad de que en un día ocurran más de dos accidentes, sabiendo que ocurre por lo menos uno es:', resultado1.round(4))"
      ],
      "metadata": {
        "colab": {
          "base_uri": "https://localhost:8080/"
        },
        "id": "rYMre7mferGT",
        "outputId": "e3f3c756-c7e6-4f8c-d42e-9d64d1c5014e"
      },
      "id": "rYMre7mferGT",
      "execution_count": null,
      "outputs": [
        {
          "output_type": "stream",
          "name": "stdout",
          "text": [
            "La probabilidad de que en un día ocurran más de dos accidentes, sabiendo que ocurre por lo menos uno es: 0.3233\n"
          ]
        }
      ]
    },
    {
      "cell_type": "code",
      "source": [
        "#Calculamos P(x>2) o bien su complemento 1 - P(x<=2)\n",
        "numerador=1-poisson.cdf(2,2)\n",
        "#Calculamos P(X=>1) o bien su complemento 1 - P(x=0)\n",
        "denominador=1-poisson.cdf(0,2) #tomamos x=0 por tratarse de una distribución discreta\n",
        "print('El resultado del numerador es:', numerador.round(4))\n",
        "print('El resultado del denominador es:', denominador.round(4))\n",
        "resultado2 = numerador/denominador"
      ],
      "metadata": {
        "colab": {
          "base_uri": "https://localhost:8080/"
        },
        "id": "0QA4GPPPaYWm",
        "outputId": "103af206-42be-42ca-d374-e5c1de813528"
      },
      "id": "0QA4GPPPaYWm",
      "execution_count": null,
      "outputs": [
        {
          "output_type": "stream",
          "name": "stdout",
          "text": [
            "El resultado del numerador es: 0.3233\n",
            "El resultado del denominador es: 0.8647\n"
          ]
        }
      ]
    },
    {
      "cell_type": "code",
      "source": [
        "print('La probabilidad de que en un día ocurran más de dos accidentes, sabiendo que ocurre por lo menos uno es:', resultado2.round(4))"
      ],
      "metadata": {
        "colab": {
          "base_uri": "https://localhost:8080/"
        },
        "id": "gqz91B7daWfR",
        "outputId": "fb5e650b-1356-416c-84b1-642d59cb9b43"
      },
      "id": "gqz91B7daWfR",
      "execution_count": null,
      "outputs": [
        {
          "output_type": "stream",
          "name": "stdout",
          "text": [
            "La probabilidad de que en un día ocurran más de dos accidentes, sabiendo que ocurre por lo menos uno es: 0.3739\n"
          ]
        }
      ]
    },
    {
      "cell_type": "markdown",
      "source": [
        "## Aproximación de Poisson a la Binomial\n",
        "La distribución de Poisson es una forma límite de la distribución binomial, es decir, es una buena aproximación cuando $n$ es suficientemente grande y $p$ suficientemente pequeña.\n",
        "\n",
        "$\\textbf{Teorema (Poisson).-}$ Sean $S_{n}\\sim Bin(n,p_{n})$ bajo el regimen $$\\lim_{n\\to \\infty}np_{n}=\\lambda>0.$$\n",
        "Consideremos la siguiente sucesión de números reales:\n",
        "$$a_{j}(n,p_n)=\\begin{cases}\\binom{n}{j}(p_n)^{j}(1-p_{n})^{n-j} & j\\leq n\\\\\n",
        "0 & j\\geq n+1\\end{cases}$$\n",
        "\n",
        " Entonces,\n",
        " $$\\lim_{n\\to \\infty}a_{j}(n,p_n)=a_{j}=e^{-\\lambda}\\frac{\\lambda^{j}}{j!} \\ \\ \\forall j\\in \\mathbb{N}.$$\n",
        "\n",
        " El teorema anterior implica que la distribución de Poisson ofrece un modelo probabilístico adecuado para todos aquellos experimentos aleatorios \ten los que las repeticiones son independientes unas de otras y en los \tque sólo hay dos posibles resultados: éxito o fracaso, con probabilidad de \téxito pequeña, y en los que el interés se centra en conocer el número de éxitos obtenidos al realizar el experimento un número suficientemente grande de veces.\n",
        "\n",
        "Empíricamente se ha establecido, que la aproximación se puede aplicar con seguridad si $n\\ge100$, $p\\le 0.01$ y $np \\le20$.\n",
        "\n",
        "**Ejemplo** Supongamos que la probabilidad de que un producto producido por cierta máquina es defectuoso es de $0.1$. ¿Cuál es la probabilidad de que un lote de 10 productos contenga a lo más un producto defectuoso?\n",
        "\n",
        "Sea $X$ el número de productos defectuosos, y sabemos que $X$ tiene una distribución binomial con parámetros $n=10$ y $p=0.1$, entonces\n",
        "\\begin{align*}\n",
        "\\mathbb{P}(X\\le 1) &= \\mathbb{P}(X=0)+\\mathbb{P}(X=1) \\\\ &= \\binom{10}{0}(0.1)^{0}(0.9)^{10-0}+\\binom{10}{1}(0.1)^{1}(0.9)^{10-1} \\\\ &= 0.7361\n",
        "\t\\end{align*}\n",
        "\n",
        "Ahora, con la distribución Poisson, tenemos que $\\lambda=10(0.1)=1$, por lo que\n",
        "$$\\mathbb{P}(X\\le 1) = \\mathbb{P}(X=0)+\\mathbb{P}(X=1) = \\frac{e^{-1}1^{0}}{0!}+\\frac{e^{-1}1^{1}}{1!} = e^{-1}+e^{-1} =0.7358$$"
      ],
      "metadata": {
        "id": "e0kiemN6jl4e"
      },
      "id": "e0kiemN6jl4e"
    },
    {
      "cell_type": "code",
      "source": [
        "# Simulación de la aproximación de la Bonomial a la Poisson\n",
        "param=3 # Parametro de la Poisson que queremos aproximar\n",
        "n=1000 # Este es el número de ensayos en la distribución binomial\n",
        "N=5000 # Este es el número de simulaciones que realizaremos.\n",
        "\n",
        "# Genera una muestra de N valores aleatorios de una distribución binomial con parámetros:\n",
        "# n = 1000 (número de ensayos), p = param/n = 3/1000\n",
        "X=npr.binomial(n,param/n,N)\n",
        "\n",
        "# Calcular la frecuencia relativa de los valores simulados\n",
        "counts = np.bincount(X) / float(N)\n",
        "\n",
        "# Crear un array de valores posibles\n",
        "x = np.arange(len(counts))\n",
        "\n",
        "# Calcular la función de masa de probabilidad (FMP) de la distribución Poisson teórica\n",
        "f_x = sps.poisson.pmf(x, param)\n",
        "\n",
        "plt.close()\n",
        "plt.bar(x - 0.5, counts, width=1., label=\"ley empírica\")\n",
        "p2 = plt.stem(x, f_x, \"r\", label=\"ley teórica\")\n",
        "plt.legend()\n",
        "plt.show()"
      ],
      "metadata": {
        "colab": {
          "base_uri": "https://localhost:8080/",
          "height": 430
        },
        "id": "TldMYmb2jVZ9",
        "outputId": "c55dfa4b-e916-4c1a-a1cf-23a0fca39be7"
      },
      "id": "TldMYmb2jVZ9",
      "execution_count": null,
      "outputs": [
        {
          "output_type": "display_data",
          "data": {
            "text/plain": [
              "<Figure size 640x480 with 1 Axes>"
            ],
            "image/png": "[encoded data removed]"
          },
          "metadata": {}
        }
      ]
    },
    {
      "cell_type": "markdown",
      "source": [
        "## Variable aleatoria Geométrica con parámetro $p\\in (0,1)$.\n",
        "\n",
        "Esta variable aleatoria cuenta el número de fracasos antes del primer éxito en ensayos bernoulli independientes con parámetro $0<p<1$, y su función de masa de probabilidades está dada por:\n",
        "$$f_{X}(k)=\\begin{cases}\n",
        "\tp(1-p)^{k-1} &\\quad \\text{si } k=1,2,\\dots \\\\\n",
        "\t\\qquad 0 &\\quad \\text{en otro caso}  \n",
        "\\end{cases}$$\n",
        "\n",
        "\n",
        "Notación. $X\\sim Geo(p)$\n",
        "\n",
        "La cual es una función de densidad ya que:\n",
        "* $0\\le f_{X}(k)\\le 1$ para toda $x$.\n",
        "* $$\\begin{align*}\n",
        "\t\\sum_{k\\in R_{X}}f_{X}(k) &= \\sum_{k=1}^{\\infty}(1-p)^{k-1}p \\\\\n",
        "\t\t\t&= p\\sum_{y=0}^{\\infty}(1-p)^{y} \\\\\n",
        "\t\t\t&= p\\left(\\frac{1}{1-(1-p)}\\right) = 1\n",
        "\t\t\\end{align*}$$\n",
        "\n",
        "Si por el contrario queremos contar el número de éxitos antes del primer fracaso, tenemos que la función de está dada por:\n",
        "\t$$f_{X}(k)=\\begin{cases}\n",
        "\t\tp^{k}(1-p) &\\quad \\text{si } k=0,1,2,\\dots \\\\\n",
        "\t\t\\qquad 0 &\\quad \\text{en otro caso}  \n",
        "\t\\end{cases}$$\n",
        "\n",
        "Para calcular la Esperanza y Varianza de $X$, necesitamos del siguiente lema:\n",
        "\n",
        "**Lema 1** Sea $x$ un número real tal que $│x│<1$. Entonces,\n",
        "$$\\sum_{k=1}^{\\infty}kx^{k-1}=\\frac{1}{(1-x)^2}.$$\n",
        "**Demostración.** Se tiene que\n",
        "$$\\frac{d}{dx}\\sum_{k=1}^{\\infty}x^{k}=\\sum_{k=1}^{\\infty}kx^{k-1}.$$\n",
        "Además,\n",
        "$$\\sum_{k=1}^{\\infty}x^{k}=\\frac{x}{1-x}.$$\n",
        "Por lo tanto,\n",
        "$$\\frac{d}{dx}\\frac{x}{1-x}=\\frac{1}{(1-x)^2}.$$\n",
        "\n",
        "Como corolario,\n",
        "$$\\sum_{k=1}^{\\infty}k(k+1)x^{k-1}=\\frac{2}{(1-x)^2}.$$\n",
        "En efecto,\n",
        "$$\\frac{d}{dx}\\sum_{k=1}^{\\infty}(k+1)x^{k}=\\sum_{k=1}^{\\infty}k(k+1)x^{k-1}.$$\n",
        "Ahora,\n",
        "$$\\sum_{k=1}^{\\infty}(k+1)x^{k}=\\sum_{m=2}^{\\infty}mx^{m-1}=\\frac{1}{(1-x)^2}-1.$$\n",
        "\n",
        "Usando estos resultados, la esperanza de $X$ es:\n",
        "\\begin{align*}\n",
        "\\mathbb{E}[X]&=  \\sum_{x \\mathop \\ge 1} k p(1-p)^{k - 1}\\\\\n",
        "&= p \\frac 1 {(1 - (1-p))^2}\\\\\n",
        "&=  \\frac p {p^2}\\\\\n",
        "&=\\frac{1}{p}\n",
        "\\end{align*}\n",
        "\n",
        "Calculamos,\n",
        "\\begin{align*}\n",
        "\\mathbb{E}[X^2]&= \\sum_{k=1}^{\\infty} x^{2}p(1-p)^{k-1}\\\\\n",
        "&=\\sum_{k=1}^{\\infty}k(k+1)(1-p)^{k-1}p-\\sum_{k=1}^{\\infty}p(1-p)^{k-1}\n",
        "\\end{align*}\n",
        "\n",
        "Por el Lema 1,\n",
        "$$\\mathbb{E}[X^2]=p\\frac{2}{p^3}-\\frac{1}{p}=\\frac{2}{p^2}-\\frac{1}{p}.$$\n",
        "\n",
        "Por lo tanto,\n",
        "$$\\text{Var}(X)=\\frac{2}{p^2}-\\frac{1}{p}-\\frac{1}{p^2}=\\frac{1-p}{p^2}.$$"
      ],
      "metadata": {
        "id": "4mz4tCaWg84X"
      },
      "id": "4mz4tCaWg84X"
    },
    {
      "cell_type": "code",
      "source": [
        "# Simulación de una distribución geométrica.\n",
        "p = 0.4  # probabilidad de éxito\n",
        "s = 100000  # tamaño de muestra (se generarán 100,000 v.a. geométricas)\n",
        "\n",
        "random.seed(3)\n",
        "geom_numeros = sps.geom.rvs(p, size=s) # genera variables aleatorias geométricas\n",
        "\n",
        "#Creo un histograma\n",
        "plt.figure(figsize=(10, 5))\n",
        "plt.hist(\n",
        "    geom_numeros,\n",
        "    density=True,\n",
        "    bins=len(np.unique(geom_numeros)),\n",
        "    color=\"#26d526\",\n",
        "    edgecolor=\"grey\",\n",
        ")\n",
        "plt.xlabel(\" \")\n",
        "plt.ylabel(\"Probabilidad\")\n",
        "plt.title(\"Distribución Geométrica \\npara p=0.4\")\n",
        "plt.xticks(\n",
        "    np.arange(min(geom_numeros), max(geom_numeros) + 1, 1.0)\n",
        ")\n",
        "\n",
        "plt.show()"
      ],
      "metadata": {
        "colab": {
          "base_uri": "https://localhost:8080/",
          "height": 508
        },
        "id": "2uktzinOoC45",
        "outputId": "f54ac019-f443-4488-ae7e-9604c11b5e0b"
      },
      "id": "2uktzinOoC45",
      "execution_count": null,
      "outputs": [
        {
          "output_type": "display_data",
          "data": {
            "text/plain": [
              "<Figure size 1000x500 with 1 Axes>"
            ],
            "image/png": "[encoded data removed]"
          },
          "metadata": {}
        }
      ]
    },
    {
      "cell_type": "markdown",
      "source": [
        "**Ejemplo.** Cada una de $12$ personas lanza una moneda indefinidamente, deteniendo sus lanzamientos en el momento en que se obtiene por primera vez águila. ¿Cuál es la probabilidad de que por lo menos $10$ de ellas realicen menos de $4$ lanzamientos?\n",
        "\n",
        "Sea $X$ el número de lanzamientos que se realizan antes de obtener por primera vez águila al lanzar una moneda indefinidamente y sea $Y$ el número de personas que realizan menos de $4$ lanzamientos. Así, $Y\\sim \\text{Binom}\\left(12, p=\\mathbb{P}(X<3) \\right)$, en donde $X\\sim \\text{Geo}(1/2)$. Así,\n",
        "- $p=\\frac{7}{8}$.\n",
        "- $\\mathbb{P}(Y\\geq 10)=0.818$"
      ],
      "metadata": {
        "id": "MBHSx-yOiL82"
      },
      "id": "MBHSx-yOiL82"
    },
    {
      "cell_type": "code",
      "source": [
        "# Calcula la función de distribución acumulada (CDF) de la distribución geométrica\n",
        "# para el valor k = 3 y la probabilidad de éxito p = 0.5.\n",
        "p = sps.geom.cdf(3, 0.5)\n",
        "print(p)\n",
        "#La probabilidad buscada es:\n",
        "P = 1-sps.binom.cdf(9, 12, p) # Cálculo de la probabilidad complementaria usando una distribución binomial\n",
        "print(P)"
      ],
      "metadata": {
        "colab": {
          "base_uri": "https://localhost:8080/"
        },
        "id": "L4w8ZEUqlTFe",
        "outputId": "c8f8d9bd-717e-468f-aa78-c527f1cd7506"
      },
      "id": "L4w8ZEUqlTFe",
      "execution_count": null,
      "outputs": [
        {
          "output_type": "stream",
          "name": "stdout",
          "text": [
            "0.875\n",
            "0.8180006196344038\n"
          ]
        }
      ]
    },
    {
      "cell_type": "markdown",
      "source": [
        "## Variable aleatoria Binomial Negativa con parámetros $r\\geq 1$ y $p\\in (0,1)$.\n",
        "\n",
        "Supongamos que se realizan ensayos independientes, cada uno con probabilidad $0<p<1$ de ser un éxito, hasta obtener un total de $r$ éxitos acumulados. Sea $X$ el número de ensayos que se requieren, entonces su función de masa de probabilidades está dada por:\n",
        "$$f_{X}(k)=\\begin{cases}\n",
        "\t\\binom{n-1}{r-1}p^{r}(1-p)^{n-r} &\\quad \\text{si } n=r,r+1,\\dots \\\\\n",
        "\t\\qquad 0 &\\quad \\text{en otro caso}  \n",
        "\\end{cases}$$\n",
        "\n",
        "\n",
        "\n",
        "Notación. $X\\sim \\text{BN}(r,p)$.\n",
        "\n",
        "Se tiene que\n",
        "$$\\mathbb{E}[X]=\\frac{r}{p}$$\n",
        "y\n",
        "$$\\text{Var}[X]=\\frac{r(1-p)}{p^2}.$$"
      ],
      "metadata": {
        "id": "I39XPyC-nW6W"
      },
      "id": "I39XPyC-nW6W"
    },
    {
      "cell_type": "code",
      "source": [
        "# Simulación de una distribución binomial negativa.\n",
        "n = 10  # numbero de ensayos Bernoulli\n",
        "p = 0.4  # probabilidad de éxito\n",
        "s = 100000  # tamaño de muestra\n",
        "\n",
        "random.seed(3)\n",
        "geom_numeros = sps.nbinom.rvs(n,p, size=s) # genera v.a. Binomial Negativas\n",
        "\n",
        "#Creo un histograma\n",
        "plt.figure(figsize=(10, 5))\n",
        "plt.hist(\n",
        "    geom_numeros,\n",
        "    density=True,\n",
        "    bins=len(np.unique(geom_numeros)),\n",
        "    color=\"#FF00FF\",\n",
        "    edgecolor=\"grey\",\n",
        ")\n",
        "plt.xlabel(\" \")\n",
        "plt.ylabel(\"Probabilidad\")\n",
        "plt.title(\"Distribución BN \\npara r=10 y p=0.4\")\n",
        "plt.xticks(\n",
        "    np.arange(min(geom_numeros), max(geom_numeros) + 1, 2.0)\n",
        ")\n",
        "\n",
        "plt.show()"
      ],
      "metadata": {
        "colab": {
          "base_uri": "https://localhost:8080/",
          "height": 508
        },
        "id": "O8bsXjQ90HUS",
        "outputId": "9b61d3f6-f96a-47cd-d336-5adb83b6d08f"
      },
      "id": "O8bsXjQ90HUS",
      "execution_count": null,
      "outputs": [
        {
          "output_type": "display_data",
          "data": {
            "text/plain": [
              "<Figure size 1000x500 with 1 Axes>"
            ],
            "image/png": "[encoded data removed]"
          },
          "metadata": {}
        }
      ]
    },
    {
      "cell_type": "markdown",
      "source": [
        "$\\color{red}{\\text{Ejercicio 4.}}$ Un examen de Estadística consta de 20 preguntas tipo test y se conoce de experiencias\n",
        "anteriores que un alumno tiene probabilidad 0.7 de contestar bien cada pregunta. Obtener:\n",
        "\n",
        "a) La probabilidad de que la primera pregunta que contesta bien sea la cuarta.\n",
        "\n",
        "b) Sabiendo que para aprobar el examen es necesario contestar bien a 10 preguntas, ¿cuál es la probabilidad de que apruebe al contestar la pregunta duodécima?\n",
        "\n",
        "$\\color{red}{\\text{Ejercicio 5.}}$ Investigue sobre el problema de la caja de cerillos de Banach y explique su solución."
      ],
      "metadata": {
        "id": "oK1C4dqX0OwD"
      },
      "id": "oK1C4dqX0OwD"
    },
    {
      "cell_type": "markdown",
      "source": [
        "## Variable aleatoria Hipergeométrica con parámetros $n,N,m$.\n",
        "\n",
        "Supongamos que se elige, sin reemplazo, una muestra de tamaño $n$ de una urna que contiene $N$ bolas, de las cuales $m$ son rojas y $N-m$ son verdes. Sea $X$ el número de ebolas rojas seleccionadas, entonces su función de masa de probabilidades está dada por:\n",
        "$$f_{X}(k)=\n",
        "\t\\frac{\\binom{m}{i}\\binom{N-m}{n-i}}{\\binom{N}{n}} \\quad \\text{si } i=0,1,\\dots, n  \n",
        "$$\n",
        "\n",
        "\n",
        "\n",
        "Notación. $X\\sim \\text{Hiper}(n,N,m)$.\n",
        "\n",
        "Se tiene que\n",
        "$$\\mathbb{E}[X]=\\frac{nm}{N}$$\n",
        "y\n",
        "$$\\text{Var}[X]=\\frac{nm}{N}\\left[\\frac{(n-1)(m-1)}{N-1}+1-\\frac{nm}{N} \\right].$$\n",
        "\n",
        "**Nota.** Si $i\\leq n$ y $X\\sim \\text{Hiper}(n,N,m)$, cuando $p=\\frac{m}{N}$ y $m,N$ son muy grandes con respecto a $n$ e $i$:\n",
        "$$\\mathbb{P}(X=i)\\approx \\binom{n}{i}p^{i}(1-p)^{n-i}.$$"
      ],
      "metadata": {
        "id": "8veKIbyeoJNy"
      },
      "id": "8veKIbyeoJNy"
    },
    {
      "cell_type": "code",
      "source": [
        "# Simulación de una distribución hipergeometrica.\n",
        "n = 40  # tamaño total de la población\n",
        "m = 32  # número de éxitos en la población\n",
        "N = 7   # número de muestras (tamaño de la muestra)\n",
        "s = 100 # número de simulaciones (tamaño de la muestra generada)\n",
        "\n",
        "\n",
        "random.seed(3)\n",
        "# Generamos variables aleatorias hipergeométricas\n",
        "geom_numeros = sps.hypergeom.rvs(n, m, N, size=s)\n",
        "\n",
        "#Creo un histograma\n",
        "plt.figure(figsize=(10, 5))\n",
        "plt.hist(\n",
        "    geom_numeros,\n",
        "    density=True,\n",
        "    bins=len(np.unique(geom_numeros)),\n",
        "    color=\"#5865F2\",\n",
        "    edgecolor=\"grey\",\n",
        ")\n",
        "plt.xlabel(\" \")\n",
        "plt.ylabel(\"Probabilidad\")\n",
        "plt.title(\"Distribución HG \\npara [40,7,32]\")\n",
        "plt.xticks(\n",
        "    np.arange(min(geom_numeros), max(geom_numeros) + 1, 2.0)\n",
        ")\n",
        "plt.show()"
      ],
      "metadata": {
        "colab": {
          "base_uri": "https://localhost:8080/",
          "height": 508
        },
        "id": "VuBGAdmp051e",
        "outputId": "fdf3cdb6-8a39-4241-f726-8ceac498963e"
      },
      "id": "VuBGAdmp051e",
      "execution_count": null,
      "outputs": [
        {
          "output_type": "display_data",
          "data": {
            "text/plain": [
              "<Figure size 1000x500 with 1 Axes>"
            ],
            "image/png": "[encoded data removed]"
          },
          "metadata": {}
        }
      ]
    },
    {
      "cell_type": "markdown",
      "source": [
        "$\\color{red}{\\text{Ejercicio 6.}}$ Una compañía petrolera realiza un estudio geológico que indica que un pozo petrolero exploratorio debería tener un 20% de posibilidades de encontrar petróleo.\n",
        "\n",
        "- ¿Cuál es la probabilidad de que el primer pozo se produzca en el tercer pozo perforado?\n",
        "\n",
        "- ¿Cuál es la probabilidad de que el tercer pozo se produzca en el séptimo pozo perforado?\n",
        "\n",
        "- ¿Cuál es la media y la varianza del número de pozos que se deben perforar si la compañía petrolera quiere establecer tres pozos productores?"
      ],
      "metadata": {
        "id": "V1rp8sMJpwiz"
      },
      "id": "V1rp8sMJpwiz"
    }
  ],
  "metadata": {
    "colab": {
      "provenance": []
    },
    "kernelspec": {
      "display_name": "Python 3 (ipykernel)",
      "language": "python",
      "name": "python3"
    },
    "language_info": {
      "codemirror_mode": {
        "name": "ipython",
        "version": 3
      },
      "file_extension": ".py",
      "mimetype": "text/x-python",
      "name": "python",
      "nbconvert_exporter": "python",
      "pygments_lexer": "ipython3",
      "version": "3.9.13"
    }
  },
  "nbformat": 4,
  "nbformat_minor": 5
}